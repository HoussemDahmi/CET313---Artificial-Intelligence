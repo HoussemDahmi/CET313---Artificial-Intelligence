{
 "cells": [
  {
   "cell_type": "markdown",
   "metadata": {},
   "source": [
    "**Exercice 1 Basic Math Operations**\n"
   ]
  },
  {
   "cell_type": "code",
   "execution_count": null,
   "metadata": {},
   "outputs": [
    {
     "name": "stdout",
     "output_type": "stream",
     "text": [
      "13\n",
      "13\n",
      "32\n",
      "2.0\n",
      "0\n",
      "16\n"
     ]
    }
   ],
   "source": [
    "# Write a program to add two numbers and print the result.\n",
    "add = 6+7\n",
    "print(add)\n",
    "# Write a program to subtract two numbers and print the result.\n",
    "subtract = 9-2\n",
    "print(add)\n",
    "# Write a program to multiply two numbers and print the result.\n",
    "mult = 4*8\n",
    "print(mult)\n",
    "# Write a program to divide two numbers and print the result.\n",
    "div = 12/6\n",
    "print(div)\n",
    "# Write a program to calculate the remainder of two numbers and print the result.\n",
    "rmder = 9%3\n",
    "print(rmder)\n",
    "# Write a program to calculate the power of a number and print the result\n",
    "pow = 2**4\n",
    "print(pow)"
   ]
  },
  {
   "cell_type": "markdown",
   "metadata": {},
   "source": [
    "**Exercice 2 Python Data Types**"
   ]
  },
  {
   "cell_type": "code",
   "execution_count": 16,
   "metadata": {},
   "outputs": [
    {
     "name": "stdout",
     "output_type": "stream",
     "text": [
      "['Apple', 'Banana', 'Mango', 'Orange', 'Watermelon']\n",
      "('Lion', 'Bat', 'Tiger')\n",
      "{'Python': 1991, 'Php': 1995, 'JavaScript': 1995}\n",
      "{'black', 'white', 'purple'}\n",
      "Python is an easy-to-learn programming language.\n"
     ]
    }
   ],
   "source": [
    "#Create a list of 5 different fruits and print the list.\n",
    "fruits = ['Apple', 'Banana', 'Mango', 'Orange', 'Watermelon']\n",
    "print(fruits)\n",
    "\n",
    "#Create a tuple of 3 different animals and print the tuple.\n",
    "animals = ('Lion', 'Bat', 'Tiger')\n",
    "print(animals)\n",
    "\n",
    "#Create a dictionary of 3 different key-value pairs where the keys are names of\n",
    "    # programming languages and the values are their release dates.\n",
    "prog_langs = {\n",
    "    'Python' : 1991,\n",
    "    'Php' : 1995,\n",
    "    'JavaScript' : 1995\n",
    "}\n",
    "print(prog_langs)\n",
    "\n",
    "#Create a set of 3 different colours and print the set.\n",
    "colors = {'white', 'black', 'purple'}\n",
    "print(colors)\n",
    "\n",
    "#Create a string variable that contains the sentence \"Python is an easy-to-learn\n",
    "    #programming language.\"\n",
    "phrase = 'Python is an easy-to-learn programming language.'\n",
    "print(phrase)\n"
   ]
  },
  {
   "cell_type": "markdown",
   "metadata": {},
   "source": [
    "**Exercice 3 Conditions**"
   ]
  },
  {
   "cell_type": "code",
   "execution_count": 20,
   "metadata": {},
   "outputs": [
    {
     "name": "stdout",
     "output_type": "stream",
     "text": [
      "type any number!\n",
      "your chosen number is Zero\n"
     ]
    }
   ],
   "source": [
    "#Write a program that takes a user input of a number and checks if it is positive, negative or \n",
    "    # zero. Print the result.\n",
    "print('type any number!')\n",
    "num = input()\n",
    "if int(num) > 0 :\n",
    "    print(num, 'is a positive number!')\n",
    "elif int(num) < 0:\n",
    "    print(num, 'is a negative number!')\n",
    "else : print('your chosen number is Zero')"
   ]
  },
  {
   "cell_type": "code",
   "execution_count": 23,
   "metadata": {},
   "outputs": [
    {
     "name": "stdout",
     "output_type": "stream",
     "text": [
      "type in something\n",
      "your sentence/word starts with a consonant\n"
     ]
    }
   ],
   "source": [
    "#Write a program that takes a user input of a string and checks if it starts with a vowel or\n",
    "    #consonant. Print the result\n",
    "vowels = ('a', 'e', 'i', 'o')\n",
    "print('type in something')\n",
    "user_input = input()\n",
    "if user_input[0] == vowels:\n",
    "    print('your sentence/word starts with a vowel')\n",
    "else: print('your sentence/word starts with a consonant')"
   ]
  },
  {
   "cell_type": "code",
   "execution_count": 25,
   "metadata": {},
   "outputs": [
    {
     "name": "stdout",
     "output_type": "stream",
     "text": [
      "insert a number!\n",
      "insert a second number!\n",
      "7 and 4 aren't equal.\n"
     ]
    }
   ],
   "source": [
    "#Write a program that takes a user input of two numbers and checks if they are equal or not.\n",
    "    #Print the result.\n",
    "print('insert a number!')\n",
    "num1 = input()\n",
    "print('insert a second number!')\n",
    "num2 = input()\n",
    "\n",
    "if int(num1) == int(num2):\n",
    "    print(num1, 'and', num2, 'are equal.')\n",
    "else:\n",
    "    print(num1, 'and', num2, 'aren\\'t equal.')\n"
   ]
  },
  {
   "cell_type": "markdown",
   "metadata": {},
   "source": [
    "**Exercise 4 Loops**"
   ]
  },
  {
   "cell_type": "code",
   "execution_count": 26,
   "metadata": {},
   "outputs": [
    {
     "name": "stdout",
     "output_type": "stream",
     "text": [
      "1 2 3 4 5 6 7 8 9 10 "
     ]
    }
   ],
   "source": [
    "#Write a program that prints the numbers from 1 to 10 using a for loop.\n",
    "values = [1,2,3,4,5,6,7,8,9,10]\n",
    "\n",
    "for value in values :\n",
    "    print(value, end= ' ')"
   ]
  },
  {
   "cell_type": "code",
   "execution_count": 28,
   "metadata": {},
   "outputs": [
    {
     "name": "stdout",
     "output_type": "stream",
     "text": [
      "2 4 6 8 10 "
     ]
    }
   ],
   "source": [
    "#Write a program that prints the even numbers from 2 to 10 using a for loop.\n",
    "for value in values :\n",
    "    if value%2 == 0:\n",
    "        print(value, end= ' ')"
   ]
  },
  {
   "cell_type": "code",
   "execution_count": 29,
   "metadata": {},
   "outputs": [
    {
     "name": "stdout",
     "output_type": "stream",
     "text": [
      "0\n",
      "1\n",
      "1\n",
      "2\n",
      "3\n"
     ]
    }
   ],
   "source": [
    "#Write a program that prints the first 5 numbers of the Fibonacci sequence using a\n",
    "    #while loop.\n",
    "a, b = 0, 1\n",
    "count = 0\n",
    "\n",
    "while count < 5 :\n",
    "    print(a)\n",
    "    a, b=b, a + b\n",
    "    count += 1"
   ]
  },
  {
   "cell_type": "markdown",
   "metadata": {},
   "source": [
    "**Exercice 5 Functions**"
   ]
  },
  {
   "cell_type": "code",
   "execution_count": 32,
   "metadata": {},
   "outputs": [
    {
     "data": {
      "text/plain": [
       "41"
      ]
     },
     "execution_count": 32,
     "metadata": {},
     "output_type": "execute_result"
    }
   ],
   "source": [
    "#Write a function that takes two numbers as parameters and returns their sum.\n",
    "def sum(num1,num2):\n",
    "    return num1+num2\n",
    "sum(34,7)\n",
    "\n",
    "\n"
   ]
  },
  {
   "cell_type": "code",
   "execution_count": 33,
   "metadata": {},
   "outputs": [
    {
     "name": "stdout",
     "output_type": "stream",
     "text": [
      "the largest number is: 19\n"
     ]
    }
   ],
   "source": [
    "#Write a function that takes a list of numbers as a parameter and returns the largest\n",
    "    #number in the list.\n",
    "\n",
    "def larg_num (nums): \n",
    "    return max(nums) #if nums else None\n",
    "nums_list = [9,5,11,19]\n",
    "print('the largest number is:', larg_num(nums_list))\n"
   ]
  },
  {
   "cell_type": "code",
   "execution_count": 58,
   "metadata": {},
   "outputs": [
    {
     "name": "stdout",
     "output_type": "stream",
     "text": [
      "write something to count vowels\n",
      "your text contains 2 vowels\n"
     ]
    }
   ],
   "source": [
    "#Write a function that takes a string as a parameter and returns the number of vowels\n",
    "    #in the string\n",
    "print('write something to count vowels')\n",
    "def check_vow (text_input):\n",
    "    text_input = input()\n",
    "    vowels = ('a','e', 'i', 'o')\n",
    "    count = 0\n",
    "    for char in text_input:\n",
    "        if char in vowels:\n",
    "            count += 1\n",
    "    return count\n",
    "print('your text contains', check_vow(count),'vowels')\n"
   ]
  },
  {
   "cell_type": "markdown",
   "metadata": {},
   "source": [
    "**Exercise 6 Password strength checker**"
   ]
  },
  {
   "cell_type": "code",
   "execution_count": 16,
   "metadata": {},
   "outputs": [
    {
     "name": "stdout",
     "output_type": "stream",
     "text": [
      "please type your password.\n",
      "Password is strong!\n"
     ]
    }
   ],
   "source": [
    "def pass_validator ():\n",
    "    print('please type your password.')\n",
    "    password_input = input()\n",
    "    symbols = {'@', '#', '$','%', '!', '?'}\n",
    "    upper = False\n",
    "    lower = False\n",
    "    symbol = False\n",
    "    if len(password_input) >= 8 :\n",
    "        for char in password_input:\n",
    "            if char.isupper() :\n",
    "                upper = True\n",
    "            elif char.islower():\n",
    "                lower = True\n",
    "            elif char in symbols:\n",
    "                symbol = True        \n",
    "        print('Password is strong!')\n",
    "    else: \n",
    "        print('Password must contain at least one uppercase letter, one special character, and be at least 8 characters long.')\n",
    "\n",
    "pass_validator()\n"
   ]
  },
  {
   "cell_type": "markdown",
   "metadata": {},
   "source": [
    "**Exercise 7 Caesar Cipher**"
   ]
  },
  {
   "cell_type": "code",
   "execution_count": 19,
   "metadata": {},
   "outputs": [
    {
     "name": "stdout",
     "output_type": "stream",
     "text": [
      "Output: lipps\n"
     ]
    }
   ],
   "source": [
    "def caesar_cipher(message, key, mode):    \n",
    "    if mode == \"decrypt\":\n",
    "        key = -key  \n",
    "        \n",
    "    result = \"\"\n",
    "\n",
    "    for char in message:\n",
    "        if char.isalpha():\n",
    "            start = ord('A') if char.isupper() else ord('a')\n",
    "            result += chr((ord(char) - start + key)%26 + start)\n",
    "        else:\n",
    "            result += char\n",
    "    return result\n",
    "\n",
    "message = input(\"Enter the message: \")\n",
    "key = int(input(\"Enter the key: \"))\n",
    "mode = input(\"Enter the mode (encrypt/decrypt): \").lower()\n",
    "\n",
    "output = caesar_cipher(message, key, mode)\n",
    "print(\"Output:\", caesar_cipher(message, key, mode))\n"
   ]
  },
  {
   "cell_type": "markdown",
   "metadata": {},
   "source": [
    "**Exercise 8 Hangman Game**"
   ]
  },
  {
   "cell_type": "code",
   "execution_count": 20,
   "metadata": {},
   "outputs": [
    {
     "name": "stdout",
     "output_type": "stream",
     "text": [
      "Welcome to Hangman!\n",
      "Guess the word: _ _ _ _\n",
      "Incorrect guess. Attempts left: 5\n",
      "_ _ _ _\n",
      "Correct guess!\n",
      "j _ _ _\n",
      "Correct guess!\n",
      "j a _ a\n",
      "Correct guess!\n",
      "j a v a\n",
      "Congratulations, you guessed the word 'java'!\n"
     ]
    }
   ],
   "source": [
    "import random\n",
    "\n",
    "def hangman(word_list, max_guesses):\n",
    "    word = random.choice(word_list)\n",
    "    guessed_word = [\"_\"] * len(word) \n",
    "    attempts_left = max_guesses\n",
    "    guessed_letters = set()\n",
    "      \n",
    "    print(\"Welcome to Hangman!\")\n",
    "    print(\"Guess the word:\", \" \".join(guessed_word))\n",
    "    \n",
    "    while attempts_left > 0 and \"_\" in guessed_word:\n",
    "        guess = input(\"Guess a letter: \").lower()\n",
    "        \n",
    "        if guess in guessed_letters:\n",
    "            print(\"You've already guessed that letter. Try again.\")\n",
    "            continue\n",
    "        \n",
    "        guessed_letters.add(guess)\n",
    "        \n",
    "        if guess in word:\n",
    "            print(\"Correct guess!\")\n",
    "            for index, letter in enumerate(word):\n",
    "                if letter == guess:\n",
    "                    guessed_word[index] = guess\n",
    "        else:\n",
    "            attempts_left -= 1\n",
    "            print(f\"Incorrect guess. Attempts left: {attempts_left}\")\n",
    "        \n",
    "        print(\" \".join(guessed_word))\n",
    "    \n",
    "    if \"_\" not in guessed_word:\n",
    "        print(f\"Congratulations, you guessed the word '{word}'!\")\n",
    "    else:\n",
    "        print(f\"Game over! The word was '{word}'.\")\n",
    "\n",
    "word_list = [\"python\", \"java\", \"javascript\"]\n",
    "max_guesses = 6\n",
    "hangman(word_list, max_guesses)\n"
   ]
  }
 ],
 "metadata": {
  "kernelspec": {
   "display_name": "Python 3",
   "language": "python",
   "name": "python3"
  },
  "language_info": {
   "codemirror_mode": {
    "name": "ipython",
    "version": 3
   },
   "file_extension": ".py",
   "mimetype": "text/x-python",
   "name": "python",
   "nbconvert_exporter": "python",
   "pygments_lexer": "ipython3",
   "version": "3.13.0"
  }
 },
 "nbformat": 4,
 "nbformat_minor": 2
}
